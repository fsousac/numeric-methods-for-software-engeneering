{
  "nbformat": 4,
  "nbformat_minor": 0,
  "metadata": {
    "colab": {
      "provenance": []
    },
    "kernelspec": {
      "name": "python3",
      "display_name": "Python 3"
    },
    "language_info": {
      "name": "python"
    }
  },
  "cells": [
    {
      "cell_type": "code",
      "execution_count": 3,
      "metadata": {
        "id": "UmsYk7hTHgp3"
      },
      "outputs": [],
      "source": [
        "import numpy as np\n",
        "\n",
        "def f(x):\n",
        "  return x**3 - 13*x - 12\n",
        "\n",
        "def muller(x0, x1, x2, f):\n",
        "  for i in range(0, 4):\n",
        "    h0 = x1 - x0\n",
        "    h1 = x2 - x1\n",
        "    delta0 = (f(x1) - f(x0))/(x1 - x0)\n",
        "    delta1 = (f(x2) - f(x1))/(x2 - x1)\n",
        "\n",
        "    a = (delta1 - delta0)/(h1 + h0)\n",
        "    b = a*h1 + delta1\n",
        "    c = f(x2)\n",
        "\n",
        "    if(b < 0):\n",
        "      raiz = -np.sqrt(b**2 - 4*a*c)\n",
        "    if(b > 0):\n",
        "      raiz = +np.sqrt(b**2 - 4*a*c)\n",
        "\n",
        "    x3 = x2 - 2*c/(b + raiz)\n",
        "\n",
        "    print(i, x3)\n",
        "\n",
        "    x0 = x1\n",
        "    x1 = x2\n",
        "    x2 = x3\n",
        "\n"
      ]
    },
    {
      "cell_type": "code",
      "source": [
        "muller(4.5, 5.5, 5, f)"
      ],
      "metadata": {
        "colab": {
          "base_uri": "https://localhost:8080/"
        },
        "id": "knDHEOw0Kz7A",
        "outputId": "c24f8664-eafe-4b78-de70-b7bf61f33b9a"
      },
      "execution_count": 4,
      "outputs": [
        {
          "output_type": "stream",
          "name": "stdout",
          "text": [
            "0 3.9764870422406546\n",
            "1 4.001050498815179\n",
            "2 4.000000705270523\n",
            "3 4.000000000000497\n"
          ]
        }
      ]
    }
  ]
}