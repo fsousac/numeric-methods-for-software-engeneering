{
  "cells": [
    {
      "cell_type": "code",
      "execution_count": 3,
      "metadata": {
        "id": "UmsYk7hTHgp3"
      },
      "outputs": [],
      "source": [
        "import numpy as np\n",
        "\n",
        "def f(x):\n",
        "  return x**3 - 13*x - 12\n",
        "\n",
        "def muller(x0, x1, x2, f):\n",
        "  for i in range(0, 4):\n",
        "    h0 = x1 - x0\n",
        "    h1 = x2 - x1\n",
        "    delta0 = (f(x1) - f(x0))/(x1 - x0)\n",
        "    delta1 = (f(x2) - f(x1))/(x2 - x1)\n",
        "\n",
        "    a = (delta1 - delta0)/(h1 + h0)\n",
        "    b = a*h1 + delta1\n",
        "    c = f(x2)\n",
        "\n",
        "    if(b < 0):\n",
        "      raiz = -np.sqrt(b**2 - 4*a*c)\n",
        "    if(b > 0):\n",
        "      raiz = +np.sqrt(b**2 - 4*a*c)\n",
        "\n",
        "    x3 = x2 - 2*c/(b + raiz)\n",
        "\n",
        "    print(i, x3)\n",
        "\n",
        "    x0 = x1\n",
        "    x1 = x2\n",
        "    x2 = x3\n",
        "\n"
      ]
    },
    {
      "cell_type": "code",
      "execution_count": 4,
      "metadata": {
        "colab": {
          "base_uri": "https://localhost:8080/"
        },
        "id": "knDHEOw0Kz7A",
        "outputId": "c24f8664-eafe-4b78-de70-b7bf61f33b9a"
      },
      "outputs": [
        {
          "name": "stdout",
          "output_type": "stream",
          "text": [
            "0 3.9764870422406546\n",
            "1 4.001050498815179\n",
            "2 4.000000705270523\n",
            "3 4.000000000000497\n"
          ]
        }
      ],
      "source": [
        "muller(4.5, 5.5, 5, f)"
      ]
    }
  ],
  "metadata": {
    "colab": {
      "provenance": []
    },
    "kernelspec": {
      "display_name": "Python 3.11.0 64-bit",
      "language": "python",
      "name": "python3"
    },
    "language_info": {
      "name": "python",
      "version": "3.11.0"
    },
    "vscode": {
      "interpreter": {
        "hash": "c261aea317cc0286b3b3261fbba9abdec21eaa57589985bb7a274bf54d6cc0a7"
      }
    }
  },
  "nbformat": 4,
  "nbformat_minor": 0
}
