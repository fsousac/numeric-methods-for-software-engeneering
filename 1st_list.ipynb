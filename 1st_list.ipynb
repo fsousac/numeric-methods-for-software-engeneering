{
  "cells": [
    {
      "cell_type": "code",
      "execution_count": 1,
      "metadata": {
        "id": "o2IJgFX4kpNx"
      },
      "outputs": [],
      "source": [
        "import numpy as np\n",
        "\n",
        "def progressiva(A, b):\n",
        "  N = len(A)\n",
        "  x1=x2=x3=0\n",
        "  for k in range(0, N-1):\n",
        "    for i in range(k+1, N):\n",
        "      fator = A[i, k]/A[k, k]\n",
        "      for j in range(k, N):\n",
        "        A[i, j] = A[i, j] - fator*A[k, j]\n",
        "      b[i] = b[i] - fator*b[k]\n",
        "\n",
        "  \n",
        "  x3=b[2,0]/A[2,2]\n",
        "  x2=(b[1,0]-(x3*A[1,2]))/A[1,1]\n",
        "  x1=(b[0,0]-(x2*A[0,1])-(x3*A[0,2]))/A[0,0]\n",
        "  res = np.array([[x1], [x2], [x3]])\n",
        "  print(res)\n",
        "\n",
        "  "
      ]
    },
    {
      "cell_type": "code",
      "execution_count": 2,
      "metadata": {
        "colab": {
          "base_uri": "https://localhost:8080/"
        },
        "id": "kxf9Rq6aktBh",
        "outputId": "5d234d6e-8a63-4566-8aed-044f3b1520a9"
      },
      "outputs": [
        {
          "name": "stdout",
          "output_type": "stream",
          "text": [
            "[[ 14.]\n",
            " [-32.]\n",
            " [ -5.]]\n"
          ]
        }
      ],
      "source": [
        "A = np.array([[2.0, 1.0, -1.0], [5.0, 2.0, 2.0], [3.0, 1.0, 1.0]])\n",
        "#print(A)\n",
        "b = np.array([[1.0],[-4.0],[5.0]])\n",
        "#print(b)\n",
        "progressiva(A, b)\n",
        "#print(A)\n",
        "#print(b)\n"
      ]
    }
  ],
  "metadata": {
    "colab": {
      "provenance": []
    },
    "kernelspec": {
      "display_name": "Python 3",
      "language": "python",
      "name": "python3"
    },
    "language_info": {
      "codemirror_mode": {
        "name": "ipython",
        "version": 3
      },
      "file_extension": ".py",
      "mimetype": "text/x-python",
      "name": "python",
      "nbconvert_exporter": "python",
      "pygments_lexer": "ipython3",
      "version": "3.11.0 (main, Oct 24 2022, 18:26:48) [MSC v.1933 64 bit (AMD64)]"
    },
    "vscode": {
      "interpreter": {
        "hash": "c261aea317cc0286b3b3261fbba9abdec21eaa57589985bb7a274bf54d6cc0a7"
      }
    }
  },
  "nbformat": 4,
  "nbformat_minor": 0
}
