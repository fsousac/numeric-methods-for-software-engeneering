{
 "cells": [
  {
   "cell_type": "code",
   "execution_count": 8,
   "metadata": {},
   "outputs": [
    {
     "name": "stdout",
     "output_type": "stream",
     "text": [
      "2.125\n"
     ]
    }
   ],
   "source": [
    "def f(x):\n",
    "    return x**2-5\n",
    "\n",
    "\n",
    "def raiz(x1, x2, f, casas):\n",
    "    for i in range(casas):\n",
    "        xr=(x1+x2)/2\n",
    "        if f(x1)*f(xr) < 0:\n",
    "            x2 = xr\n",
    "        else:\n",
    "            x1 = xr\n",
    "    return xr\n",
    "\n",
    "print(raiz(2, 3, f, 3))"
   ]
  }
 ],
 "metadata": {
  "kernelspec": {
   "display_name": "Python 3.10.6 64-bit",
   "language": "python",
   "name": "python3"
  },
  "language_info": {
   "codemirror_mode": {
    "name": "ipython",
    "version": 3
   },
   "file_extension": ".py",
   "mimetype": "text/x-python",
   "name": "python",
   "nbconvert_exporter": "python",
   "pygments_lexer": "ipython3",
   "version": "3.10.6"
  },
  "orig_nbformat": 4,
  "vscode": {
   "interpreter": {
    "hash": "369f2c481f4da34e4445cda3fffd2e751bd1c4d706f27375911949ba6bb62e1c"
   }
  }
 },
 "nbformat": 4,
 "nbformat_minor": 2
}
